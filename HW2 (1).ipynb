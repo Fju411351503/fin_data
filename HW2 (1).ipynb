{
 "cells": [
  {
   "cell_type": "code",
   "execution_count": 1,
   "id": "51d74d9a-d0d4-41e5-b4cd-788c8e8e2db9",
   "metadata": {},
   "outputs": [
    {
     "name": "stdout",
     "output_type": "stream",
     "text": [
      "3.12.7 | packaged by Anaconda, Inc. | (main, Oct  4 2024, 13:17:27) [MSC v.1929 64 bit (AMD64)]\n",
      "C:\\Users\\tailo\\anaconda3\\python.exe\n"
     ]
    }
   ],
   "source": [
    "import sys\n",
    "print(sys.version)\n",
    "print(sys.executable)"
   ]
  },
  {
   "cell_type": "code",
   "execution_count": 11,
   "id": "3191e7d2-7824-46ee-b200-972b0a08b5d2",
   "metadata": {
    "scrolled": true
   },
   "outputs": [
    {
     "name": "stdout",
     "output_type": "stream",
     "text": [
      "Processing d:\\users\\tailong\\downloads\\ta_lib-0.6.3-cp312-cp312-win_amd64.whl\n",
      "Requirement already satisfied: setuptools in c:\\users\\tailo\\anaconda3\\lib\\site-packages (from ta-lib==0.6.3) (75.1.0)\n",
      "Requirement already satisfied: numpy in c:\\users\\tailo\\anaconda3\\lib\\site-packages (from ta-lib==0.6.3) (1.26.4)\n",
      "ta-lib is already installed with the same version as the provided wheel. Use --force-reinstall to force an installation of the wheel.\n"
     ]
    }
   ],
   "source": [
    "!pip install \"D:\\\\Users\\\\tailong\\\\Downloads\\\\ta_lib-0.6.3-cp312-cp312-win_amd64.whl\""
   ]
  },
  {
   "cell_type": "code",
   "execution_count": 25,
   "id": "679a75ed-6658-437f-9205-577fea6c983f",
   "metadata": {
    "scrolled": true
   },
   "outputs": [
    {
     "name": "stdout",
     "output_type": "stream",
     "text": [
      "Requirement already satisfied: ta-lib in c:\\users\\tailo\\anaconda3\\lib\\site-packages (0.6.3)\n",
      "Requirement already satisfied: setuptools in c:\\users\\tailo\\anaconda3\\lib\\site-packages (from ta-lib) (75.1.0)\n",
      "Requirement already satisfied: numpy in c:\\users\\tailo\\anaconda3\\lib\\site-packages (from ta-lib) (1.26.4)\n"
     ]
    }
   ],
   "source": [
    "!pip install ta-lib"
   ]
  },
  {
   "cell_type": "code",
   "execution_count": 26,
   "id": "7454fb36-3ad3-40f1-bef5-7d40f244444c",
   "metadata": {},
   "outputs": [],
   "source": [
    "import talib"
   ]
  },
  {
   "cell_type": "code",
   "execution_count": 29,
   "id": "d51217fe-1f3e-4a13-8a5d-f9a4f670187c",
   "metadata": {},
   "outputs": [
    {
     "name": "stdout",
     "output_type": "stream",
     "text": [
      "Collecting yfinance\n",
      "  Using cached yfinance-0.2.55-py2.py3-none-any.whl.metadata (5.8 kB)\n",
      "Requirement already satisfied: pandas>=1.3.0 in c:\\users\\tailo\\anaconda3\\lib\\site-packages (from yfinance) (2.2.2)\n",
      "Requirement already satisfied: numpy>=1.16.5 in c:\\users\\tailo\\anaconda3\\lib\\site-packages (from yfinance) (1.26.4)\n",
      "Requirement already satisfied: requests>=2.31 in c:\\users\\tailo\\anaconda3\\lib\\site-packages (from yfinance) (2.32.3)\n",
      "Collecting multitasking>=0.0.7 (from yfinance)\n",
      "  Downloading multitasking-0.0.11-py3-none-any.whl.metadata (5.5 kB)\n",
      "Requirement already satisfied: platformdirs>=2.0.0 in c:\\users\\tailo\\anaconda3\\lib\\site-packages (from yfinance) (3.10.0)\n",
      "Requirement already satisfied: pytz>=2022.5 in c:\\users\\tailo\\anaconda3\\lib\\site-packages (from yfinance) (2024.1)\n",
      "Requirement already satisfied: frozendict>=2.3.4 in c:\\users\\tailo\\anaconda3\\lib\\site-packages (from yfinance) (2.4.2)\n",
      "Collecting peewee>=3.16.2 (from yfinance)\n",
      "  Downloading peewee-3.17.9.tar.gz (3.0 MB)\n",
      "     ---------------------------------------- 0.0/3.0 MB ? eta -:--:--\n",
      "     ---------------------------------------- 0.0/3.0 MB ? eta -:--:--\n",
      "     ------ --------------------------------- 0.5/3.0 MB 1.9 MB/s eta 0:00:02\n",
      "     ---------- ----------------------------- 0.8/3.0 MB 1.3 MB/s eta 0:00:02\n",
      "     ---------- ----------------------------- 0.8/3.0 MB 1.3 MB/s eta 0:00:02\n",
      "     ----------------- ---------------------- 1.3/3.0 MB 1.3 MB/s eta 0:00:02\n",
      "     -------------------- ------------------- 1.6/3.0 MB 1.3 MB/s eta 0:00:02\n",
      "     -------------------- ------------------- 1.6/3.0 MB 1.3 MB/s eta 0:00:02\n",
      "     ------------------------ --------------- 1.8/3.0 MB 1.2 MB/s eta 0:00:01\n",
      "     ------------------------ --------------- 1.8/3.0 MB 1.2 MB/s eta 0:00:01\n",
      "     --------------------------- ------------ 2.1/3.0 MB 1.1 MB/s eta 0:00:01\n",
      "     ------------------------------- -------- 2.4/3.0 MB 1.1 MB/s eta 0:00:01\n",
      "     ---------------------------------- ----- 2.6/3.0 MB 1.1 MB/s eta 0:00:01\n",
      "     ---------------------------------- ----- 2.6/3.0 MB 1.1 MB/s eta 0:00:01\n",
      "     -------------------------------------- - 2.9/3.0 MB 998.6 kB/s eta 0:00:01\n",
      "     ---------------------------------------- 3.0/3.0 MB 999.3 kB/s eta 0:00:00\n",
      "  Installing build dependencies: started\n",
      "  Installing build dependencies: finished with status 'done'\n",
      "  Getting requirements to build wheel: started\n",
      "  Getting requirements to build wheel: finished with status 'done'\n",
      "  Preparing metadata (pyproject.toml): started\n",
      "  Preparing metadata (pyproject.toml): finished with status 'done'\n",
      "Requirement already satisfied: beautifulsoup4>=4.11.1 in c:\\users\\tailo\\anaconda3\\lib\\site-packages (from yfinance) (4.12.3)\n",
      "Requirement already satisfied: soupsieve>1.2 in c:\\users\\tailo\\anaconda3\\lib\\site-packages (from beautifulsoup4>=4.11.1->yfinance) (2.5)\n",
      "Requirement already satisfied: python-dateutil>=2.8.2 in c:\\users\\tailo\\anaconda3\\lib\\site-packages (from pandas>=1.3.0->yfinance) (2.9.0.post0)\n",
      "Requirement already satisfied: tzdata>=2022.7 in c:\\users\\tailo\\anaconda3\\lib\\site-packages (from pandas>=1.3.0->yfinance) (2023.3)\n",
      "Requirement already satisfied: charset-normalizer<4,>=2 in c:\\users\\tailo\\anaconda3\\lib\\site-packages (from requests>=2.31->yfinance) (3.3.2)\n",
      "Requirement already satisfied: idna<4,>=2.5 in c:\\users\\tailo\\anaconda3\\lib\\site-packages (from requests>=2.31->yfinance) (3.7)\n",
      "Requirement already satisfied: urllib3<3,>=1.21.1 in c:\\users\\tailo\\anaconda3\\lib\\site-packages (from requests>=2.31->yfinance) (2.2.3)\n",
      "Requirement already satisfied: certifi>=2017.4.17 in c:\\users\\tailo\\anaconda3\\lib\\site-packages (from requests>=2.31->yfinance) (2024.8.30)\n",
      "Requirement already satisfied: six>=1.5 in c:\\users\\tailo\\anaconda3\\lib\\site-packages (from python-dateutil>=2.8.2->pandas>=1.3.0->yfinance) (1.16.0)\n",
      "Downloading yfinance-0.2.55-py2.py3-none-any.whl (109 kB)\n",
      "Downloading multitasking-0.0.11-py3-none-any.whl (8.5 kB)\n",
      "Building wheels for collected packages: peewee\n",
      "  Building wheel for peewee (pyproject.toml): started\n",
      "  Building wheel for peewee (pyproject.toml): finished with status 'done'\n",
      "  Created wheel for peewee: filename=peewee-3.17.9-py3-none-any.whl size=139126 sha256=05247bd126b25966f78b2a48d95690528839fbe75af55bcb8a63cf4bef15eea4\n",
      "  Stored in directory: c:\\users\\tailo\\appdata\\local\\pip\\cache\\wheels\\43\\ef\\2d\\2c51d496bf084945ffdf838b4cc8767b8ba1cc20eb41588831\n",
      "Successfully built peewee\n",
      "Installing collected packages: peewee, multitasking, yfinance\n",
      "Successfully installed multitasking-0.0.11 peewee-3.17.9 yfinance-0.2.55\n"
     ]
    }
   ],
   "source": [
    "!pip install yfinance"
   ]
  },
  {
   "cell_type": "code",
   "execution_count": 30,
   "id": "8e353f5d-8b84-4cb4-b322-2e4a4679cc08",
   "metadata": {},
   "outputs": [
    {
     "name": "stdout",
     "output_type": "stream",
     "text": [
      "YF.download() has changed argument auto_adjust default to True\n"
     ]
    },
    {
     "data": {
      "text/html": [
       "<div>\n",
       "<style scoped>\n",
       "    .dataframe tbody tr th:only-of-type {\n",
       "        vertical-align: middle;\n",
       "    }\n",
       "\n",
       "    .dataframe tbody tr th {\n",
       "        vertical-align: top;\n",
       "    }\n",
       "\n",
       "    .dataframe thead tr th {\n",
       "        text-align: left;\n",
       "    }\n",
       "\n",
       "    .dataframe thead tr:last-of-type th {\n",
       "        text-align: right;\n",
       "    }\n",
       "</style>\n",
       "<table border=\"1\" class=\"dataframe\">\n",
       "  <thead>\n",
       "    <tr>\n",
       "      <th>Price</th>\n",
       "      <th>Close</th>\n",
       "      <th>High</th>\n",
       "      <th>Low</th>\n",
       "      <th>Open</th>\n",
       "      <th>Volume</th>\n",
       "    </tr>\n",
       "    <tr>\n",
       "      <th>Ticker</th>\n",
       "      <th>1314.TW</th>\n",
       "      <th>1314.TW</th>\n",
       "      <th>1314.TW</th>\n",
       "      <th>1314.TW</th>\n",
       "      <th>1314.TW</th>\n",
       "    </tr>\n",
       "    <tr>\n",
       "      <th>Date</th>\n",
       "      <th></th>\n",
       "      <th></th>\n",
       "      <th></th>\n",
       "      <th></th>\n",
       "      <th></th>\n",
       "    </tr>\n",
       "  </thead>\n",
       "  <tbody>\n",
       "    <tr>\n",
       "      <th>2024-01-02</th>\n",
       "      <td>9.73</td>\n",
       "      <td>9.78</td>\n",
       "      <td>9.72</td>\n",
       "      <td>9.77</td>\n",
       "      <td>3718044</td>\n",
       "    </tr>\n",
       "    <tr>\n",
       "      <th>2024-01-03</th>\n",
       "      <td>9.80</td>\n",
       "      <td>9.82</td>\n",
       "      <td>9.70</td>\n",
       "      <td>9.73</td>\n",
       "      <td>7702791</td>\n",
       "    </tr>\n",
       "    <tr>\n",
       "      <th>2024-01-04</th>\n",
       "      <td>9.80</td>\n",
       "      <td>9.97</td>\n",
       "      <td>9.80</td>\n",
       "      <td>9.84</td>\n",
       "      <td>15135489</td>\n",
       "    </tr>\n",
       "    <tr>\n",
       "      <th>2024-01-05</th>\n",
       "      <td>9.86</td>\n",
       "      <td>9.89</td>\n",
       "      <td>9.81</td>\n",
       "      <td>9.84</td>\n",
       "      <td>4952923</td>\n",
       "    </tr>\n",
       "    <tr>\n",
       "      <th>2024-01-08</th>\n",
       "      <td>10.00</td>\n",
       "      <td>10.05</td>\n",
       "      <td>9.88</td>\n",
       "      <td>9.90</td>\n",
       "      <td>22523529</td>\n",
       "    </tr>\n",
       "  </tbody>\n",
       "</table>\n",
       "</div>"
      ],
      "text/plain": [
       "Price        Close    High     Low    Open    Volume\n",
       "Ticker     1314.TW 1314.TW 1314.TW 1314.TW   1314.TW\n",
       "Date                                                \n",
       "2024-01-02    9.73    9.78    9.72    9.77   3718044\n",
       "2024-01-03    9.80    9.82    9.70    9.73   7702791\n",
       "2024-01-04    9.80    9.97    9.80    9.84  15135489\n",
       "2024-01-05    9.86    9.89    9.81    9.84   4952923\n",
       "2024-01-08   10.00   10.05    9.88    9.90  22523529"
      ]
     },
     "execution_count": 30,
     "metadata": {},
     "output_type": "execute_result"
    }
   ],
   "source": [
    "import yfinance as yf\n",
    "\n",
    "df = yf.download('1314.TW', start='2024-01-01', progress=False)\n",
    "df.head()"
   ]
  },
  {
   "cell_type": "code",
   "execution_count": 43,
   "id": "39f58b01-c1ea-405c-ad49-d55b10d68c02",
   "metadata": {},
   "outputs": [
    {
     "name": "stderr",
     "output_type": "stream",
     "text": [
      "[*********************100%***********************]  1 of 1 completed\n"
     ]
    },
    {
     "data": {
      "text/html": [
       "<div>\n",
       "<style scoped>\n",
       "    .dataframe tbody tr th:only-of-type {\n",
       "        vertical-align: middle;\n",
       "    }\n",
       "\n",
       "    .dataframe tbody tr th {\n",
       "        vertical-align: top;\n",
       "    }\n",
       "\n",
       "    .dataframe thead tr th {\n",
       "        text-align: left;\n",
       "    }\n",
       "\n",
       "    .dataframe thead tr:last-of-type th {\n",
       "        text-align: right;\n",
       "    }\n",
       "</style>\n",
       "<table border=\"1\" class=\"dataframe\">\n",
       "  <thead>\n",
       "    <tr>\n",
       "      <th>Price</th>\n",
       "      <th>Close</th>\n",
       "      <th>High</th>\n",
       "      <th>Low</th>\n",
       "      <th>Open</th>\n",
       "      <th>Volume</th>\n",
       "    </tr>\n",
       "    <tr>\n",
       "      <th>Ticker</th>\n",
       "      <th>1314.TW</th>\n",
       "      <th>1314.TW</th>\n",
       "      <th>1314.TW</th>\n",
       "      <th>1314.TW</th>\n",
       "      <th>1314.TW</th>\n",
       "    </tr>\n",
       "    <tr>\n",
       "      <th>Date</th>\n",
       "      <th></th>\n",
       "      <th></th>\n",
       "      <th></th>\n",
       "      <th></th>\n",
       "      <th></th>\n",
       "    </tr>\n",
       "  </thead>\n",
       "  <tbody>\n",
       "    <tr>\n",
       "      <th>2025-04-14</th>\n",
       "      <td>6.93</td>\n",
       "      <td>7.04</td>\n",
       "      <td>6.85</td>\n",
       "      <td>6.90</td>\n",
       "      <td>11682876</td>\n",
       "    </tr>\n",
       "    <tr>\n",
       "      <th>2025-04-15</th>\n",
       "      <td>7.10</td>\n",
       "      <td>7.10</td>\n",
       "      <td>6.93</td>\n",
       "      <td>6.93</td>\n",
       "      <td>7588960</td>\n",
       "    </tr>\n",
       "    <tr>\n",
       "      <th>2025-04-16</th>\n",
       "      <td>6.98</td>\n",
       "      <td>7.08</td>\n",
       "      <td>6.95</td>\n",
       "      <td>7.07</td>\n",
       "      <td>5662853</td>\n",
       "    </tr>\n",
       "    <tr>\n",
       "      <th>2025-04-17</th>\n",
       "      <td>6.95</td>\n",
       "      <td>6.99</td>\n",
       "      <td>6.85</td>\n",
       "      <td>6.96</td>\n",
       "      <td>4286858</td>\n",
       "    </tr>\n",
       "    <tr>\n",
       "      <th>2025-04-18</th>\n",
       "      <td>7.00</td>\n",
       "      <td>7.04</td>\n",
       "      <td>6.95</td>\n",
       "      <td>6.99</td>\n",
       "      <td>3596433</td>\n",
       "    </tr>\n",
       "  </tbody>\n",
       "</table>\n",
       "</div>"
      ],
      "text/plain": [
       "Price        Close    High     Low    Open    Volume\n",
       "Ticker     1314.TW 1314.TW 1314.TW 1314.TW   1314.TW\n",
       "Date                                                \n",
       "2025-04-14    6.93    7.04    6.85    6.90  11682876\n",
       "2025-04-15    7.10    7.10    6.93    6.93   7588960\n",
       "2025-04-16    6.98    7.08    6.95    7.07   5662853\n",
       "2025-04-17    6.95    6.99    6.85    6.96   4286858\n",
       "2025-04-18    7.00    7.04    6.95    6.99   3596433"
      ]
     },
     "execution_count": 43,
     "metadata": {},
     "output_type": "execute_result"
    }
   ],
   "source": [
    "import yfinance as yf\n",
    "import numpy as np\n",
    "df = yf.download(\"1314.TW\", \"2024-01-01\")\n",
    "# 計算 RSI 指標，時間週期為 14\n",
    "import numpy as np\n",
    "Close=df['Close']['1314.TW'].to_numpy()\n",
    "RSI = talib.RSI(Close, timeperiod=14)\n",
    "df.dropna(inplace=True)  # 移除缺失值\n",
    "df.tail()"
   ]
  },
  {
   "cell_type": "code",
   "execution_count": null,
   "id": "17abf895-861c-4995-9156-3ae9336ede37",
   "metadata": {},
   "outputs": [],
   "source": [
    "if df.any(RSI>30):\n",
    "    position_chg=+1\n",
    "    print(\"RSI 由下而上突破 30\",視為買進訊號)"
   ]
  },
  {
   "cell_type": "code",
   "execution_count": null,
   "id": "769e9264-3313-4848-af00-f92df24d1729",
   "metadata": {},
   "outputs": [],
   "source": [
    "if df.any(RSI<70):\n",
    "    position_chg=1\n",
    "    print(\"RSI 由下而上跌破 30\",視為買進訊號)"
   ]
  },
  {
   "cell_type": "code",
   "execution_count": null,
   "id": "fcd74214-06c0-4d00-82d6-0154321e669d",
   "metadata": {},
   "outputs": [],
   "source": []
  }
 ],
 "metadata": {
  "kernelspec": {
   "display_name": "Python 3 (ipykernel)",
   "language": "python",
   "name": "python3"
  },
  "language_info": {
   "codemirror_mode": {
    "name": "ipython",
    "version": 3
   },
   "file_extension": ".py",
   "mimetype": "text/x-python",
   "name": "python",
   "nbconvert_exporter": "python",
   "pygments_lexer": "ipython3",
   "version": "3.12.7"
  }
 },
 "nbformat": 4,
 "nbformat_minor": 5
}
