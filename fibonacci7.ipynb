{
  "nbformat": 4,
  "nbformat_minor": 0,
  "metadata": {
    "colab": {
      "provenance": []
    },
    "kernelspec": {
      "name": "python3",
      "display_name": "Python 3"
    },
    "language_info": {
      "name": "python"
    }
  },
  "cells": [
    {
      "cell_type": "code",
      "source": [
        "def fibonacci(n):\n",
        "    if n <= 0:\n",
        "        return \"請輸入大於 0 的整數\"\n",
        "\n",
        "    # 建立數列\n",
        "    seq = [1, 1]\n",
        "    while len(seq) < n:\n",
        "        seq.append(seq[-1] + seq[-2])\n",
        "\n",
        "    # 建立比值串列\n",
        "    ratios = []\n",
        "    for i in range(1, len(seq)):\n",
        "        if seq[i-1] == 0:\n",
        "            ratios.append(None)\n",
        "        else:    ratios.append(seq[i-1] / seq[i])\n",
        "\n",
        "    return {\n",
        "        \"數列\": seq[:n],\n",
        "        \"比值串列\": ratios\n",
        "    }"
      ],
      "metadata": {
        "id": "1-tFn3tJrNmg"
      },
      "execution_count": 67,
      "outputs": []
    },
    {
      "cell_type": "code",
      "source": [
        "b = input('請輸入fibonacci數列到第幾個數字')\n",
        "result = fibonacci(int((b)))\n",
        "\n",
        "print(\"數列：\", result[\"數列\"])\n",
        "print(\"比值：\", result[\"比值串列\"])"
      ],
      "metadata": {
        "colab": {
          "base_uri": "https://localhost:8080/"
        },
        "id": "NQm-aFU3xv0Q",
        "outputId": "be5cabb6-d4b9-4da4-a623-89f7dd2a341d"
      },
      "execution_count": 68,
      "outputs": [
        {
          "output_type": "stream",
          "name": "stdout",
          "text": [
            "請輸入fibonacci數列到第幾個數字5\n",
            "數列： [1, 1, 2, 3, 5]\n",
            "比值： [1.0, 0.5, 0.6666666666666666, 0.6]\n"
          ]
        }
      ]
    }
  ]
}