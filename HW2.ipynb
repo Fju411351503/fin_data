{
 "cells": [
  {
   "cell_type": "code",
   "execution_count": 1,
   "id": "51d74d9a-d0d4-41e5-b4cd-788c8e8e2db9",
   "metadata": {},
   "outputs": [
    {
     "name": "stdout",
     "output_type": "stream",
     "text": [
      "3.12.7 | packaged by Anaconda, Inc. | (main, Oct  4 2024, 13:17:27) [MSC v.1929 64 bit (AMD64)]\n",
      "C:\\Users\\tailo\\anaconda3\\python.exe\n"
     ]
    }
   ],
   "source": [
    "import sys\n",
    "print(sys.version)\n",
    "print(sys.executable)"
   ]
  },
  {
   "cell_type": "code",
   "execution_count": 11,
   "id": "3191e7d2-7824-46ee-b200-972b0a08b5d2",
   "metadata": {
    "scrolled": true
   },
   "outputs": [
    {
     "name": "stdout",
     "output_type": "stream",
     "text": [
      "Processing d:\\users\\tailong\\downloads\\ta_lib-0.6.3-cp312-cp312-win_amd64.whl\n",
      "Requirement already satisfied: setuptools in c:\\users\\tailo\\anaconda3\\lib\\site-packages (from ta-lib==0.6.3) (75.1.0)\n",
      "Requirement already satisfied: numpy in c:\\users\\tailo\\anaconda3\\lib\\site-packages (from ta-lib==0.6.3) (1.26.4)\n",
      "ta-lib is already installed with the same version as the provided wheel. Use --force-reinstall to force an installation of the wheel.\n"
     ]
    }
   ],
   "source": [
    "!pip install \"D:\\\\Users\\\\tailong\\\\Downloads\\\\ta_lib-0.6.3-cp312-cp312-win_amd64.whl\""
   ]
  },
  {
   "cell_type": "code",
   "execution_count": 14,
   "id": "679a75ed-6658-437f-9205-577fea6c983f",
   "metadata": {
    "scrolled": true
   },
   "outputs": [
    {
     "name": "stdout",
     "output_type": "stream",
     "text": [
      "Requirement already satisfied: ta-lib in c:\\users\\tailo\\anaconda3\\lib\\site-packages (0.6.3)\n",
      "Requirement already satisfied: setuptools in c:\\users\\tailo\\anaconda3\\lib\\site-packages (from ta-lib) (75.1.0)\n",
      "Requirement already satisfied: numpy in c:\\users\\tailo\\anaconda3\\lib\\site-packages (from ta-lib) (1.26.4)\n"
     ]
    }
   ],
   "source": [
    "!pip install ta-lib"
   ]
  },
  {
   "cell_type": "code",
   "execution_count": 19,
   "id": "7454fb36-3ad3-40f1-bef5-7d40f244444c",
   "metadata": {},
   "outputs": [],
   "source": [
    "import talib"
   ]
  },
  {
   "cell_type": "code",
   "execution_count": null,
   "id": "8e353f5d-8b84-4cb4-b322-2e4a4679cc08",
   "metadata": {},
   "outputs": [],
   "source": []
  }
 ],
 "metadata": {
  "kernelspec": {
   "display_name": "Python 3 (ipykernel)",
   "language": "python",
   "name": "python3"
  },
  "language_info": {
   "codemirror_mode": {
    "name": "ipython",
    "version": 3
   },
   "file_extension": ".py",
   "mimetype": "text/x-python",
   "name": "python",
   "nbconvert_exporter": "python",
   "pygments_lexer": "ipython3",
   "version": "3.12.7"
  }
 },
 "nbformat": 4,
 "nbformat_minor": 5
}
